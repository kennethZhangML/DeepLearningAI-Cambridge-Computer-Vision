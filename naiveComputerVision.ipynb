{
 "cells": [
  {
   "cell_type": "code",
   "execution_count": 2,
   "source": [
    "import tensorflow as tf\r\n",
    "\r\n",
    "dataset = tf.keras.datasets.fashion_mnist\r\n",
    "(training_images, training_labels), (test_images, test_labels) = dataset.load_data()\r\n",
    "\r\n",
    "training_images = training_images / 255.0\r\n",
    "test_images = test_images / 255.0\r\n",
    "\r\n",
    "model = tf.keras.models.Sequential([\r\n",
    "    tf.keras.layers.Flatten(input_shape=(28, 28)),\r\n",
    "    tf.keras.layers.Dense(128, activation=tf.nn.relu),\r\n",
    "    tf.keras.layers.Dense(10, activation=tf.nn.softmax)\r\n",
    "])\r\n",
    "\r\n",
    "model.compile(optimizer = 'adam',\r\n",
    "loss = 'sparse_categorical_crossentropy',\r\n",
    "metrics = ['accuracy'])\r\n",
    "\r\n",
    "model.fit(training_images, training_labels, epochs = 5)\r\n",
    "model.evaluate(test_images, test_labels)"
   ],
   "outputs": [
    {
     "output_type": "stream",
     "name": "stdout",
     "text": [
      "Epoch 1/5\n",
      "1875/1875 [==============================] - 2s 687us/step - loss: 0.6279 - accuracy: 0.7789\n",
      "Epoch 2/5\n",
      "1875/1875 [==============================] - 1s 720us/step - loss: 0.3849 - accuracy: 0.8611\n",
      "Epoch 3/5\n",
      "1875/1875 [==============================] - 1s 689us/step - loss: 0.3406 - accuracy: 0.8767\n",
      "Epoch 4/5\n",
      "1875/1875 [==============================] - 1s 722us/step - loss: 0.3170 - accuracy: 0.8831\n",
      "Epoch 5/5\n",
      "1875/1875 [==============================] - 1s 719us/step - loss: 0.2955 - accuracy: 0.8902\n",
      "313/313 [==============================] - 0s 635us/step - loss: 0.3479 - accuracy: 0.8778\n"
     ]
    },
    {
     "output_type": "execute_result",
     "data": {
      "text/plain": [
       "[0.3479230999946594, 0.8777999877929688]"
      ]
     },
     "metadata": {},
     "execution_count": 2
    }
   ],
   "metadata": {}
  },
  {
   "cell_type": "code",
   "execution_count": 3,
   "source": [
    "classifications = model.predict(test_images)\r\n",
    "print(classifications[0])\r\n",
    "print(test_labels[0])"
   ],
   "outputs": [
    {
     "output_type": "stream",
     "name": "stdout",
     "text": [
      "[1.1684384e-05 2.2575783e-07 3.5259767e-05 7.1104964e-06 2.5779370e-04\n",
      " 3.1631518e-02 7.1122216e-05 5.3872783e-02 2.2019287e-04 9.1389227e-01]\n",
      "9\n"
     ]
    }
   ],
   "metadata": {}
  }
 ],
 "metadata": {
  "orig_nbformat": 4,
  "language_info": {
   "name": "python",
   "version": "3.8.5",
   "mimetype": "text/x-python",
   "codemirror_mode": {
    "name": "ipython",
    "version": 3
   },
   "pygments_lexer": "ipython3",
   "nbconvert_exporter": "python",
   "file_extension": ".py"
  },
  "kernelspec": {
   "name": "python3",
   "display_name": "Python 3.8.5 64-bit ('base': conda)"
  },
  "interpreter": {
   "hash": "62777786f8687b9575c0619f17c497edf6c2b58eb2992f0dd825a023781db6e8"
  }
 },
 "nbformat": 4,
 "nbformat_minor": 2
}