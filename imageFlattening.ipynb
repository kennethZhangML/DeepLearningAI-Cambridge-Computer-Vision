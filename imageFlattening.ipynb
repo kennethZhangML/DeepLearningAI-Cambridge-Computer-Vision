{
 "cells": [
  {
   "cell_type": "code",
   "execution_count": null,
   "source": [
    "#import necessary libraries\r\n",
    "import tensorflow as tf \r\n",
    "from tensorflow import keras\r\n",
    "from tensorflow.keras import *\r\n",
    "\r\n",
    "#declare dataset variable\r\n",
    "dataset = tf.keras.datasets.fashion_mnist\r\n",
    "\r\n",
    "#Split the dataset (images and labels) into training and testing sets\r\n",
    "(training_images, training_labels), (testing_images, testing_labels) = data.load_data()\r\n",
    "\r\n",
    "#Normalize the Images by dividing by 255.0\r\n",
    "training_images = training_images / 255.0\r\n",
    "testing_images = testing_images / 255.0\r\n",
    "\r\n",
    "#Define our Sequential Network\r\n",
    "model = tf.keras.models.Sequential([\r\n",
    "    tf.keras.layers.Flatten(input_shape = (28, 28)), #input_shape should be the dimensions of the image, so for example, 28x28\r\n",
    "    tf.keras.layers.Dense(128, activation = tf.nn.relu), #Dense layer with 128 units, using the rectified linear unit activation function\r\n",
    "    tf.keras.layers.Dense(10, activation = tf.nn.softmax)]) #there are 10 classes in the MNIST dataset, so there should be 10 units in this layer\r\n",
    "\r\n",
    "#Multi-class problems require the softmax activation, whereas binary classification problems use the sigmoid activation\r\n",
    "\r\n",
    "#Compile the model with an optimizer, loss function, and a definition for the metrics\r\n",
    "model.compile(optimizer = 'adam', loss = \"sparse_categorical_crossentropy\", metrics = ['accuracy'])\r\n",
    "\r\n",
    "#Fit the model on the training images and training labels\r\n",
    "model.fit(training_images, training_labels, epochs = 5)"
   ],
   "outputs": [],
   "metadata": {}
  }
 ],
 "metadata": {
  "orig_nbformat": 4,
  "language_info": {
   "name": "python"
  }
 },
 "nbformat": 4,
 "nbformat_minor": 2
}