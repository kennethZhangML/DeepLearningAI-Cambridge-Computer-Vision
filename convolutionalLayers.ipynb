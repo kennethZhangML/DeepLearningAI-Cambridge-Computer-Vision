{
 "cells": [
  {
   "cell_type": "code",
   "execution_count": null,
   "source": [
    "import tensorflow as tf\r\n",
    "from tensorflow import keras\r\n",
    "\r\n",
    "layer = tf.keras.layers.Conv2D(64, (3, 3), activation = 'relu', input_shape = (28, 28, 1))"
   ],
   "outputs": [],
   "metadata": {}
  }
 ],
 "metadata": {
  "orig_nbformat": 4,
  "language_info": {
   "name": "python"
  }
 },
 "nbformat": 4,
 "nbformat_minor": 2
}